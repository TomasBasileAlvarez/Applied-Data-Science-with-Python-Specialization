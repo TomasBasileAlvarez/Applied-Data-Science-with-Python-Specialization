{
 "cells": [
  {
   "cell_type": "markdown",
   "metadata": {},
   "source": [
    "# Assignment 4\n",
    "## Description\n",
    "In this assignment you must read in a file of metropolitan regions and associated sports teams from [assets/wikipedia_data.html](assets/wikipedia_data.html) and answer some questions about each metropolitan region. Each of these regions may have one or more teams from the \"Big 4\": NFL (football, in [assets/nfl.csv](assets/nfl.csv)), MLB (baseball, in [assets/mlb.csv](assets/mlb.csv)), NBA (basketball, in [assets/nba.csv](assets/nba.csv) or NHL (hockey, in [assets/nhl.csv](assets/nhl.csv)). Please keep in mind that all questions are from the perspective of the metropolitan region, and that this file is the \"source of authority\" for the location of a given sports team. Thus teams which are commonly known by a different area (e.g. \"Oakland Raiders\") need to be mapped into the metropolitan region given (e.g. San Francisco Bay Area). This will require some human data understanding outside of the data you've been given (e.g. you will have to hand-code some names, and might need to google to find out where teams are)!\n",
    "\n",
    "For each sport I would like you to answer the question: **what is the win/loss ratio's correlation with the population of the city it is in?** Win/Loss ratio refers to the number of wins over the number of wins plus the number of losses. Remember that to calculate the correlation with [`pearsonr`](https://docs.scipy.org/doc/scipy/reference/generated/scipy.stats.pearsonr.html), so you are going to send in two ordered lists of values, the populations from the wikipedia_data.html file and the win/loss ratio for a given sport in the same order. Average the win/loss ratios for those cities which have multiple teams of a single sport. Each sport is worth an equal amount in this assignment (20%\\*4=80%) of the grade for this assignment. You should only use data **from year 2018** for your analysis -- this is important!\n",
    "\n",
    "## Notes\n",
    "\n",
    "1. Do not include data about the MLS or CFL in any of the work you are doing, we're only interested in the Big 4 in this assignment.\n",
    "2. I highly suggest that you first tackle the four correlation questions in order, as they are all similar and worth the majority of grades for this assignment. This is by design!\n",
    "3. It's fair game to talk with peers about high level strategy as well as the relationship between metropolitan areas and sports teams. However, do not post code solving aspects of the assignment (including such as dictionaries mapping areas to teams, or regexes which will clean up names).\n",
    "4. There may be more teams than the assert statements test, remember to collapse multiple teams in one city into a single value!"
   ]
  },
  {
   "cell_type": "markdown",
   "metadata": {},
   "source": [
    "## Question 1\n",
    "For this question, calculate the win/loss ratio's correlation with the population of the city it is in for the **NHL** using **2018** data."
   ]
  },
  {
   "cell_type": "code",
   "execution_count": 2,
   "metadata": {},
   "outputs": [
    {
     "name": "stderr",
     "output_type": "stream",
     "text": [
      "c:\\users\\tbasi\\appdata\\local\\programs\\python\\python37\\lib\\site-packages\\ipykernel_launcher.py:21: FutureWarning: The default value of regex will change from True to False in a future version.\n",
      "c:\\users\\tbasi\\appdata\\local\\programs\\python\\python37\\lib\\site-packages\\ipykernel_launcher.py:22: FutureWarning: The default value of regex will change from True to False in a future version.\n",
      "c:\\users\\tbasi\\appdata\\local\\programs\\python\\python37\\lib\\site-packages\\ipykernel_launcher.py:23: FutureWarning: The default value of regex will change from True to False in a future version.\n",
      "c:\\users\\tbasi\\appdata\\local\\programs\\python\\python37\\lib\\site-packages\\ipykernel_launcher.py:24: FutureWarning: The default value of regex will change from True to False in a future version.\n"
     ]
    }
   ],
   "source": [
    "import pandas as pd\n",
    "import numpy as np\n",
    "import scipy.stats as stats\n",
    "import re\n",
    "\n",
    "\n",
    "# leemos una pagina de wikipedia\n",
    "# que tiene todas las ciudades de EUA y Canada con equipos de algun deport\n",
    "# y tiene los nombres de estos equipos para NHL, NFL,... y la pob de las ciudades\n",
    "cities = pd.read_html(\"assets/wikipedia_data.html\")[1]\n",
    "\n",
    "#sacamos solo las ciudades, poblacion, y 4 deportes que nos interesan\n",
    "cities = cities.iloc[:-1, [0, 3, 5, 6, 7, 8]]\n",
    "\n",
    "# renombramos la columna de poblacion inplace\n",
    "cities.rename(columns={\"Population (2016 est.)[8]\": \"Population\"},\n",
    "              inplace=True)\n",
    "\n",
    "# tomamos solo la columna de cada deporte, y cambiamos \n",
    "# los elementos vacios por espacios\n",
    "cities['NFL'] = cities['NFL'].str.replace(r\"\\[.*\\]\", \"\")\n",
    "cities['MLB'] = cities['MLB'].str.replace(r\"\\[.*\\]\", \"\")\n",
    "cities['NBA'] = cities['NBA'].str.replace(r\"\\[.*\\]\", \"\")\n",
    "cities['NHL'] = cities['NHL'].str.replace(r\"\\[.*\\]\", \"\")\n",
    "\n",
    "#vamos a ver el NHL\n",
    "Big4='NHL'\n",
    "\n",
    "\n",
    "def nhl_correlation():\n",
    "    # Extraemos los nombres de los equipos de NHL\n",
    "    team = (cities[Big4].str.extract('([A-Z]{0,2}[a-z0-9]*\\ [A-Z]{0,2}[a-z0-9]*|[A-Z]{0,2}[a-z0-9]*)([A-Z]{0,2}[a-z0-9]*\\ [A-Z]{0,2}[a-z0-9]*|[A-Z]{0,2}[a-z0-9]*)([A-Z]{0,2}[a-z0-9]*\\ [A-Z]{0,2}[a-z0-9]*|[A-Z]{0,2}[a-z0-9]*)'))\n",
    "    \n",
    "    # agregamos una columna con la metropolitan area\n",
    "    team['Metropolitan area']=cities['Metropolitan area']\n",
    "    team = pd.melt(team, id_vars=['Metropolitan area']).drop(columns=['variable']).replace(\"\",np.nan).replace(\"—\",np.nan).dropna().reset_index().rename(columns = {\"value\":\"team\"})\n",
    "    team=pd.merge(team,cities,how='left',on = 'Metropolitan area').iloc[:,1:4]\n",
    "    team = team.astype({'Metropolitan area': str, 'team': str, 'Population': int})\n",
    "    team['team']=team['team'].str.replace('[\\w.]*\\ ','')\n",
    "    \n",
    "    _df=pd.read_csv(\"assets/\"+str.lower(Big4)+\".csv\")\n",
    "    _df = _df[_df['year'] == 2018]\n",
    "    _df['team'] = _df['team'].str.replace(r'\\*',\"\")\n",
    "    _df = _df[['team','W','L']]\n",
    "\n",
    "    dropList=[]\n",
    "    for i in range(_df.shape[0]):\n",
    "        row=_df.iloc[i]\n",
    "        if row['team']==row['W'] and row['L']==row['W']:\n",
    "    #         print(row['team'],'will be dropped!')\n",
    "            dropList.append(i)\n",
    "    _df=_df.drop(dropList)\n",
    "\n",
    "    _df['team'] = _df['team'].str.replace('[\\w.]* ','')\n",
    "#     _df['team'] = _df['team'].str.replace('.','')\n",
    "    _df = _df.astype({'team': str,'W': int, 'L': int})\n",
    "    _df['W/L%'] = _df['W']/(_df['W']+_df['L'])\n",
    "    \n",
    "    merge=pd.merge(team,_df,'outer', on = 'team')\n",
    "    merge=merge.groupby('Metropolitan area').agg({'W/L%': np.nanmean, 'Population': np.nanmean})\n",
    "    \n",
    "    population_by_region = merge['Population'] # pass in metropolitan area population from cities\n",
    "    win_loss_by_region = merge['W/L%'] # pass in win/loss ratio from _df in the same order as cities[\"Metropolitan area\"]   \n",
    "\n",
    "    assert len(population_by_region) == len(\n",
    "        win_loss_by_region), \"Q1: Your lists must be the same length\"\n",
    "    assert len(population_by_region\n",
    "               ) == 28, \"Q1: There should be 28 teams being analysed for NHL\"\n",
    "\n",
    "    return stats.pearsonr(population_by_region, win_loss_by_region)[0]\n",
    "\n",
    "#nhl_correlation()"
   ]
  },
  {
   "cell_type": "markdown",
   "metadata": {},
   "source": [
    "## Question 2\n",
    "For this question, calculate the win/loss ratio's correlation with the population of the city it is in for the **NBA** using **2018** data."
   ]
  },
  {
   "cell_type": "code",
   "execution_count": 5,
   "metadata": {},
   "outputs": [
    {
     "data": {
      "text/plain": [
       "-0.17636350642182932"
      ]
     },
     "execution_count": 5,
     "metadata": {},
     "output_type": "execute_result"
    }
   ],
   "source": [
    "import pandas as pd\n",
    "import numpy as np\n",
    "import scipy.stats as stats\n",
    "import re\n",
    "\n",
    "cities = pd.read_html(\"assets/wikipedia_data.html\")[1]\n",
    "cities = cities.iloc[:-1, [0, 3, 5, 6, 7, 8]]\n",
    "cities.rename(columns={\"Population (2016 est.)[8]\": \"Population\"},\n",
    "              inplace=True)\n",
    "cities['NFL'] = cities['NFL'].str.replace(r\"\\[.*\\]\", \"\")\n",
    "cities['MLB'] = cities['MLB'].str.replace(r\"\\[.*\\]\", \"\")\n",
    "cities['NBA'] = cities['NBA'].str.replace(r\"\\[.*\\]\", \"\")\n",
    "cities['NHL'] = cities['NHL'].str.replace(r\"\\[.*\\]\", \"\")\n",
    "\n",
    "Big4='NBA'\n",
    "\n",
    "def nba_correlation():\n",
    "    \n",
    "    team = cities[Big4].str.extract('([A-Z]{0,2}[a-z0-9]*\\ [A-Z]{0,2}[a-z0-9]*|[A-Z]{0,2}[a-z0-9]*)([A-Z]{0,2}[a-z0-9]*\\ [A-Z]{0,2}[a-z0-9]*|[A-Z]{0,2}[a-z0-9]*)([A-Z]{0,2}[a-z0-9]*\\ [A-Z]{0,2}[a-z0-9]*|[A-Z]{0,2}[a-z0-9]*)')\n",
    "    team['Metropolitan area']=cities['Metropolitan area']\n",
    "    team = pd.melt(team, id_vars=['Metropolitan area']).drop(columns=['variable']).replace(\"\",np.nan).replace(\"—\",np.nan).dropna().reset_index().rename(columns = {\"value\":\"team\"})\n",
    "    team=pd.merge(team,cities,how='left',on = 'Metropolitan area').iloc[:,1:4]\n",
    "    team = team.astype({'Metropolitan area': str, 'team': str, 'Population': int})\n",
    "    team['team']=team['team'].str.replace('[\\w.]*\\ ','')\n",
    "\n",
    "    _df=pd.read_csv(\"assets/\"+str.lower(Big4)+\".csv\")\n",
    "    _df = _df[_df['year'] == 2018]\n",
    "    _df['team'] = _df['team'].str.replace(r'[\\*]',\"\")\n",
    "    _df['team'] = _df['team'].str.replace(r'\\(\\d*\\)',\"\")\n",
    "    _df['team'] = _df['team'].str.replace(r'[\\xa0]',\"\")\n",
    "    _df = _df[['team','W/L%']]\n",
    "    _df['team'] = _df['team'].str.replace('[\\w.]* ','')\n",
    "    _df = _df.astype({'team': str,'W/L%': float})\n",
    "    \n",
    "    merge=pd.merge(team,_df,'outer', on = 'team')\n",
    "    merge=merge.groupby('Metropolitan area').agg({'W/L%': np.nanmean, 'Population': np.nanmean})\n",
    "\n",
    "    population_by_region = merge['Population'] # pass in metropolitan area population from cities\n",
    "    win_loss_by_region = merge['W/L%'] # pass in win/loss ratio from _df in the same order as cities[\"Metropolitan area\"]   \n",
    "\n",
    "    assert len(population_by_region) == len(win_loss_by_region), \"Q2: Your lists must be the same length\"\n",
    "    assert len(population_by_region) == 28, \"Q2: There should be 28 teams being analysed for NBA\"\n",
    "\n",
    "    return stats.pearsonr(population_by_region, win_loss_by_region)[0]\n",
    "nba_correlation()"
   ]
  },
  {
   "cell_type": "markdown",
   "metadata": {},
   "source": [
    "## Question 3\n",
    "For this question, calculate the win/loss ratio's correlation with the population of the city it is in for the **MLB** using **2018** data."
   ]
  },
  {
   "cell_type": "code",
   "execution_count": 6,
   "metadata": {},
   "outputs": [
    {
     "data": {
      "text/plain": [
       "0.15003737475409495"
      ]
     },
     "execution_count": 6,
     "metadata": {},
     "output_type": "execute_result"
    }
   ],
   "source": [
    "import pandas as pd\n",
    "import numpy as np\n",
    "import scipy.stats as stats\n",
    "import re\n",
    "\n",
    "cities = pd.read_html(\"assets/wikipedia_data.html\")[1]\n",
    "cities = cities.iloc[:-1, [0, 3, 5, 6, 7, 8]]\n",
    "cities.rename(columns={\"Population (2016 est.)[8]\": \"Population\"},\n",
    "              inplace=True)\n",
    "cities['NFL'] = cities['NFL'].str.replace(r\"\\[.*\\]\", \"\")\n",
    "cities['MLB'] = cities['MLB'].str.replace(r\"\\[.*\\]\", \"\")\n",
    "cities['NBA'] = cities['NBA'].str.replace(r\"\\[.*\\]\", \"\")\n",
    "cities['NHL'] = cities['NHL'].str.replace(r\"\\[.*\\]\", \"\")\n",
    "\n",
    "Big4='MLB'\n",
    "\n",
    "def mlb_correlation(): \n",
    "    \n",
    "    team = cities[Big4].str.extract('([A-Z]{0,2}[a-z0-9]*\\ [A-Z]{0,2}[a-z0-9]*|[A-Z]{0,2}[a-z0-9]*)([A-Z]{0,2}[a-z0-9]*\\ [A-Z]{0,2}[a-z0-9]*|[A-Z]{0,2}[a-z0-9]*)([A-Z]{0,2}[a-z0-9]*\\ [A-Z]{0,2}[a-z0-9]*|[A-Z]{0,2}[a-z0-9]*)')\n",
    "    team['Metropolitan area']=cities['Metropolitan area']\n",
    "    team = pd.melt(team, id_vars=['Metropolitan area']).drop(columns=['variable']).replace(\"\",np.nan).replace(\"—\",np.nan).dropna().reset_index().rename(columns = {\"value\":\"team\"})\n",
    "    team=pd.merge(team,cities,how='left',on = 'Metropolitan area').iloc[:,1:4]\n",
    "    team = team.astype({'Metropolitan area': str, 'team': str, 'Population': int})\n",
    "    team['team']=team['team'].str.replace('\\ Sox','Sox')\n",
    "    team['team']=team['team'].str.replace('[\\w.]*\\ ','')\n",
    "\n",
    "    _df=pd.read_csv(\"assets/\"+str.lower(Big4)+\".csv\")\n",
    "    _df = _df[_df['year'] == 2018]\n",
    "    _df['team'] = _df['team'].str.replace(r'[\\*]',\"\")\n",
    "    _df['team'] = _df['team'].str.replace(r'\\(\\d*\\)',\"\")\n",
    "    _df['team'] = _df['team'].str.replace(r'[\\xa0]',\"\")\n",
    "    _df = _df[['team','W-L%']]\n",
    "    _df.rename(columns={\"W-L%\": \"W/L%\"},inplace=True)\n",
    "    _df['team']=_df['team'].str.replace('\\ Sox','Sox')\n",
    "    _df['team'] = _df['team'].str.replace('[\\w.]* ','')\n",
    "    _df = _df.astype({'team': str,'W/L%': float})\n",
    "    \n",
    "    merge=pd.merge(team,_df,'outer', on = 'team')\n",
    "    merge=merge.groupby('Metropolitan area').agg({'W/L%': np.nanmean, 'Population': np.nanmean})\n",
    "    \n",
    "    population_by_region = merge['Population'] # pass in metropolitan area population from cities\n",
    "    win_loss_by_region = merge['W/L%'] # pass in win/loss ratio from _df in the same order as cities[\"Metropolitan area\"]   \n",
    "\n",
    "    assert len(population_by_region) == len(win_loss_by_region), \"Q3: Your lists must be the same length\"\n",
    "    assert len(population_by_region) == 26, \"Q3: There should be 26 teams being analysed for MLB\"\n",
    "    \n",
    "    return stats.pearsonr(population_by_region, win_loss_by_region)[0]\n",
    "mlb_correlation()"
   ]
  },
  {
   "cell_type": "markdown",
   "metadata": {},
   "source": [
    "## Question 4\n",
    "For this question, calculate the win/loss ratio's correlation with the population of the city it is in for the **NFL** using **2018** data."
   ]
  },
  {
   "cell_type": "code",
   "execution_count": 7,
   "metadata": {},
   "outputs": [
    {
     "data": {
      "text/plain": [
       "0.0042821414363930135"
      ]
     },
     "execution_count": 7,
     "metadata": {},
     "output_type": "execute_result"
    }
   ],
   "source": [
    "import pandas as pd\n",
    "import numpy as np\n",
    "import scipy.stats as stats\n",
    "import re\n",
    "\n",
    "cities = pd.read_html(\"assets/wikipedia_data.html\")[1]\n",
    "cities = cities.iloc[:-1, [0, 3, 5, 6, 7, 8]]\n",
    "cities.rename(columns={\"Population (2016 est.)[8]\": \"Population\"},\n",
    "              inplace=True)\n",
    "cities['NFL'] = cities['NFL'].str.replace(r\"\\[.*\\]\", \"\")\n",
    "cities['MLB'] = cities['MLB'].str.replace(r\"\\[.*\\]\", \"\")\n",
    "cities['NBA'] = cities['NBA'].str.replace(r\"\\[.*\\]\", \"\")\n",
    "cities['NHL'] = cities['NHL'].str.replace(r\"\\[.*\\]\", \"\")\n",
    "\n",
    "Big4='NFL'\n",
    "\n",
    "def nfl_correlation(): \n",
    "    team = cities[Big4].str.extract('([A-Z]{0,2}[a-z0-9]*\\ [A-Z]{0,2}[a-z0-9]*|[A-Z]{0,2}[a-z0-9]*)([A-Z]{0,2}[a-z0-9]*\\ [A-Z]{0,2}[a-z0-9]*|[A-Z]{0,2}[a-z0-9]*)([A-Z]{0,2}[a-z0-9]*\\ [A-Z]{0,2}[a-z0-9]*|[A-Z]{0,2}[a-z0-9]*)')\n",
    "    team['Metropolitan area']=cities['Metropolitan area']\n",
    "    team = pd.melt(team, id_vars=['Metropolitan area']).drop(columns=['variable']).replace(\"\",np.nan).replace(\"—\",np.nan).dropna().reset_index().rename(columns = {\"value\":\"team\"})\n",
    "    team=pd.merge(team,cities,how='left',on = 'Metropolitan area').iloc[:,1:4]\n",
    "    team = team.astype({'Metropolitan area': str, 'team': str, 'Population': int})\n",
    "    team['team']=team['team'].str.replace('[\\w.]*\\ ','')\n",
    "    \n",
    "    _df=pd.read_csv(\"assets/\"+str.lower(Big4)+\".csv\")\n",
    "    _df = _df[_df['year'] == 2018]\n",
    "    _df['team'] = _df['team'].str.replace(r'[\\*]',\"\")\n",
    "    _df['team'] = _df['team'].str.replace(r'\\(\\d*\\)',\"\")\n",
    "    _df['team'] = _df['team'].str.replace(r'[\\xa0]',\"\")\n",
    "    _df = _df[['team','W-L%']]\n",
    "    _df.rename(columns={\"W-L%\": \"W/L%\"},inplace=True)\n",
    "    dropList=[]\n",
    "    for i in range(_df.shape[0]):\n",
    "        row=_df.iloc[i]\n",
    "        if row['team']==row['W/L%']:\n",
    "            dropList.append(i)\n",
    "    _df=_df.drop(dropList)\n",
    "\n",
    "    _df['team'] = _df['team'].str.replace('[\\w.]* ','')\n",
    "    _df['team'] = _df['team'].str.replace('+','')\n",
    "    _df = _df.astype({'team': str,'W/L%': float})\n",
    "    \n",
    "    merge=pd.merge(team,_df,'outer', on = 'team')\n",
    "    merge=merge.groupby('Metropolitan area').agg({'W/L%': np.nanmean, 'Population': np.nanmean})\n",
    "\n",
    "    population_by_region = merge['Population'] # pass in metropolitan area population from cities\n",
    "    win_loss_by_region = merge['W/L%'] # pass in win/loss ratio from _df in the same order as cities[\"Metropolitan area\"]   \n",
    "    \n",
    "    assert len(population_by_region) == len(win_loss_by_region), \"Q4: Your lists must be the same length\"\n",
    "    assert len(population_by_region) == 29, \"Q4: There should be 29 teams being analysed for NFL\"\n",
    "\n",
    "    return stats.pearsonr(population_by_region, win_loss_by_region)[0]\n",
    "nfl_correlation()"
   ]
  },
  {
   "cell_type": "code",
   "execution_count": null,
   "metadata": {},
   "outputs": [],
   "source": []
  }
 ],
 "metadata": {
  "kernelspec": {
   "display_name": "Python 3",
   "language": "python",
   "name": "python3"
  },
  "language_info": {
   "codemirror_mode": {
    "name": "ipython",
    "version": 3
   },
   "file_extension": ".py",
   "mimetype": "text/x-python",
   "name": "python",
   "nbconvert_exporter": "python",
   "pygments_lexer": "ipython3",
   "version": "3.7.7rc1"
  }
 },
 "nbformat": 4,
 "nbformat_minor": 2
}
