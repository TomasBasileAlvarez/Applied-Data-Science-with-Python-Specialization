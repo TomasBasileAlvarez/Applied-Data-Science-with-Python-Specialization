{
 "cells": [
  {
   "cell_type": "markdown",
   "metadata": {},
   "source": [
    "# Assignment 2\n",
    "For this assignment you'll be looking at 2017 data on immunizations from the CDC. Your datafile for this assignment is in [assets/NISPUF17.csv](assets/NISPUF17.csv). A data users guide for this, which you'll need to map the variables in the data to the questions being asked, is available at [assets/NIS-PUF17-DUG.pdf](assets/NIS-PUF17-DUG.pdf). **Note: you may have to go to your Jupyter tree (click on the Coursera image) and navigate to the assignment 2 assets folder to see this PDF file).**"
   ]
  },
  {
   "cell_type": "markdown",
   "metadata": {},
   "source": [
    "## Question 1\n",
    "Write a function called `proportion_of_education` which returns the proportion of children in the dataset who had a mother with the education levels equal to less than high school (<12), high school (12), more than high school but not a college graduate (>12) and college degree.\n",
    "\n",
    "*This function should return a dictionary in the form of (use the correct numbers, do not round numbers):* \n",
    "```\n",
    "    {\"less than high school\":0.2,\n",
    "    \"high school\":0.4,\n",
    "    \"more than high school but not college\":0.2,\n",
    "    \"college\":0.2}\n",
    "```\n"
   ]
  },
  {
   "cell_type": "code",
   "execution_count": 6,
   "metadata": {},
   "outputs": [
    {
     "data": {
      "text/plain": [
       "{'less than high school': 0.10202002459160373,\n",
       " 'high school': 0.172352011241876,\n",
       " 'more than high school but not college': 0.24588090637625154,\n",
       " 'college': 0.47974705779026877}"
      ]
     },
     "execution_count": 6,
     "metadata": {},
     "output_type": "execute_result"
    }
   ],
   "source": [
    "import pandas as pd\n",
    "def proportion_of_education():\n",
    "    df = pd.read_csv(\"assets/NISPUF17.csv\", index_col = 0)\n",
    "    #vemos los que tengan 1 en la columna educacion (indica less than HS)\n",
    "    masknivel1 = df['EDUC1'] == 1\n",
    "    #sumaos los valores True y false\n",
    "    countnivel1 = masknivel1.sum()\n",
    "    \n",
    "    #lo mismo para los demas\n",
    "    \n",
    "    masknivel2 = df['EDUC1'] == 2\n",
    "    countnivel2 = masknivel2.sum()\n",
    "    #print(countnivel2)\n",
    "    \n",
    "    masknivel3 = df['EDUC1'] == 3\n",
    "    countnivel3 = masknivel3.sum()\n",
    "    #print(countnivel3)\n",
    "    \n",
    "    masknivel4 = df['EDUC1'] == 4\n",
    "    countnivel4 = masknivel4.sum()\n",
    "    #print(countnivel4)\n",
    "    \n",
    "    #calculamos el total\n",
    "    \n",
    "    tot = countnivel1+countnivel2+countnivel3+countnivel4\n",
    "    \n",
    "    #obtenemos las proporciones\n",
    "    dictt = {\"less than high school\": countnivel1/tot, \"high school\": countnivel2/tot,\n",
    "            \"more than high school but not college\": countnivel3/tot, \"college\": countnivel4/tot}\n",
    "    return(dictt)\n",
    "    \n",
    "    # your code goes here\n",
    "    # YOUR CODE HERE\n",
    "proportion_of_education()"
   ]
  },
  {
   "cell_type": "code",
   "execution_count": 7,
   "metadata": {},
   "outputs": [],
   "source": [
    "import pandas as pd\n",
    "def proportion_of_education():\n",
    "    # your code goes here\n",
    "    # YOUR CODE HERE\n",
    "    df = pd.read_csv(\"assets/NISPUF17.csv\", index_col = 0)\n",
    "    #vemos los que tengan 1 en la columna educacion (indica less than HS)\n",
    "    masknivel1 = df['EDUC1'] == 1\n",
    "    #sumaos los valores\n",
    "    countnivel1 = masknivel1.sum()\n",
    "    #print(countnivel1)\n",
    "    \n",
    "    \n",
    "    #lo mismo para los demas\n",
    "    \n",
    "    masknivel2 = df['EDUC1'] == 2\n",
    "    countnivel2 = masknivel2.sum()\n",
    "    #print(countnivel2)\n",
    "    \n",
    "    masknivel3 = df['EDUC1'] == 3\n",
    "    countnivel3 = masknivel3.sum()\n",
    "    #print(countnivel3)\n",
    "    \n",
    "    masknivel4 = df['EDUC1'] == 4\n",
    "    countnivel4 = masknivel4.sum()\n",
    "    #print(countnivel4)\n",
    "    \n",
    "    #calculamos el total\n",
    "    \n",
    "    tot = countnivel1+countnivel2+countnivel3+countnivel4\n",
    "    \n",
    "    #obtenemos las proporciones\n",
    "    dictt = {\"less than high school\": countnivel1/tot, \"high school\": countnivel2/tot,\n",
    "            \"more than high school but not college\": countnivel3/tot, \"college\": countnivel4/tot}\n",
    "    return(dictt)\n",
    "    raise NotImplementedError()"
   ]
  },
  {
   "cell_type": "code",
   "execution_count": 2,
   "metadata": {},
   "outputs": [
    {
     "data": {
      "text/plain": [
       "{'less than high school': 0.10202002459160373,\n",
       " 'high school': 0.172352011241876,\n",
       " 'more than high school but not college': 0.24588090637625154,\n",
       " 'college': 0.47974705779026877}"
      ]
     },
     "execution_count": 2,
     "metadata": {},
     "output_type": "execute_result"
    }
   ],
   "source": [
    "proportion_of_education()"
   ]
  },
  {
   "cell_type": "markdown",
   "metadata": {},
   "source": [
    "## Question 2\n",
    "\n",
    "Let's explore the relationship between being fed breastmilk as a child and getting a seasonal influenza vaccine from a healthcare provider. Return a tuple of the average number of influenza vaccines for those children we know received breastmilk as a child and those who know did not.\n",
    "\n",
    "*This function should return a tuple in the form (use the correct numbers:*\n",
    "```\n",
    "(2.5, 0.1)\n",
    "```"
   ]
  },
  {
   "cell_type": "code",
   "execution_count": 8,
   "metadata": {},
   "outputs": [],
   "source": [
    "def average_influenza_doses():\n",
    "    df = pd.read_csv(\"assets/NISPUF17.csv\", index_col = 0)\n",
    "    \n",
    "    #agarramos los que si tomaron leche materna\n",
    "    maskyes = df['CBF_01'] ==1\n",
    "    \n",
    "    # sacamos los valores NUMFLU (numero de vacunas de influenza)\n",
    "    # de entre los que si recibieron breast\n",
    "    dfflu=df['P_NUMFLU'][maskyes]\n",
    "    #calculamos el promedio\n",
    "    promyes = dfflu.mean()\n",
    "    \n",
    "    #lo mismo para los que no recibieron breas (indicado con 2)\n",
    "    maskno = df['CBF_01'] == 2\n",
    "    dffluno=df['P_NUMFLU'][maskno]\n",
    "    promno = dffluno.mean()\n",
    "    #print(dffluno)\n",
    "    #print(promno)\n",
    "    \n",
    "    return(promyes,promno)\n",
    "    "
   ]
  },
  {
   "cell_type": "code",
   "execution_count": 9,
   "metadata": {},
   "outputs": [],
   "source": [
    "def average_influenza_doses():\n",
    "    df = pd.read_csv(\"assets/NISPUF17.csv\", index_col = 0)\n",
    "    \n",
    "    #agarramos los que s'i recibieron Breast\n",
    "    maskyes = df['CBF_01'] == 1\n",
    "    \n",
    "    #sacamos los valores NUMFLU (numero de vacunas de inlfuenza)\n",
    "    #de entre los que s'i recibieron breast\n",
    "    dfflu=df['P_NUMFLU'][maskyes]\n",
    "    #calculamos el promedio\n",
    "    promyes = dfflu.mean()\n",
    "    \n",
    "    #print(dfflu)\n",
    "    #print(promyes)\n",
    "    \n",
    "    #lo mismo para los que no recibieron breas (indicado con 2)\n",
    "    maskno = df['CBF_01'] == 2\n",
    "    dffluno=df['P_NUMFLU'][maskno]\n",
    "    promno = dffluno.mean()\n",
    "    #print(dffluno)\n",
    "    #print(promno)\n",
    "    \n",
    "    return(promyes,promno)\n",
    "    \n",
    "    raise NotImplementedError()"
   ]
  },
  {
   "cell_type": "code",
   "execution_count": 10,
   "metadata": {},
   "outputs": [
    {
     "data": {
      "text/plain": [
       "(1.8799187420058687, 1.5963945918878317)"
      ]
     },
     "execution_count": 10,
     "metadata": {},
     "output_type": "execute_result"
    }
   ],
   "source": [
    "average_influenza_doses()"
   ]
  },
  {
   "cell_type": "markdown",
   "metadata": {},
   "source": [
    "## Question 3\n",
    "It would be interesting to see if there is any evidence of a link between vaccine effectiveness and sex of the child. Calculate the ratio of the number of children who contracted chickenpox but were vaccinated against it (at least one varicella dose) versus those who were vaccinated but did not contract chicken pox. Return results by sex. \n",
    "\n",
    "*This function should return a dictionary in the form of (use the correct numbers):* \n",
    "```\n",
    "    {\"male\":0.2,\n",
    "    \"female\":0.4}\n",
    "```\n",
    "\n",
    "Note: To aid in verification, the `chickenpox_by_sex()['female']` value the autograder is looking for starts with the digits `0.0077`."
   ]
  },
  {
   "cell_type": "code",
   "execution_count": 13,
   "metadata": {},
   "outputs": [],
   "source": [
    "def chickenpox_by_sex():\n",
    "    df = pd.read_csv(\"assets/NISPUF17.csv\", index_col = 0)\n",
    "    \n",
    "    #sacamos la mask de los que recibieron por lo menos una vacc y son M\n",
    "    maskvacunadosM = (df['P_NUMVRC'] >= 1) & (df['SEX']==1)\n",
    "    #print(maskvacunadosM)\n",
    "    #print(maskvacunadosM.head(20))\n",
    "    #agarraos s'olo estos datos\n",
    "    dfvacunadosM = df[maskvacunadosM]\n",
    "    \n",
    "    #de entre los vacunados hombres, vemos cuandots tuvieron CPOX\n",
    "    #y sumamos\n",
    "    maskvacunadosMCP = dfvacunadosM['HAD_CPOX'] == 1\n",
    "    vacunadosMconCP = maskvacunadosMCP.sum()\n",
    "    \n",
    "    #de entre los vacunados hombres, vemos cuantos  no tuvieron CPOX\n",
    "    #y sumamos\n",
    "    maskvacunadosMSin = dfvacunadosM['HAD_CPOX'] == 2\n",
    "    vacunadosMsinCP = maskvacunadosMSin.sum()\n",
    "    \n",
    "    #sacamos la proporcion de los que tubieron entre los que no\n",
    "    propM = vacunadosMconCP / vacunadosMsinCP\n",
    "    \n",
    "    #print(propM)\n",
    "    \n",
    "    #Todo igual para mujeros\n",
    "    \n",
    "    maskvacunadosF = (df['P_NUMVRC'] >= 1) & (df['SEX']==2)\n",
    "    #print(maskvacunadosF)\n",
    "    #print(maskvacunadosF.head(20))\n",
    "    dfvacunadosF = df[maskvacunadosF]\n",
    "    \n",
    "    maskvacunadosFCP = dfvacunadosF['HAD_CPOX'] == 1\n",
    "    vacunadosFconCP = maskvacunadosFCP.sum()\n",
    "    \n",
    "    maskvacunadosFSin = dfvacunadosF['HAD_CPOX'] == 2\n",
    "    vacunadosFsinCP = maskvacunadosFSin.sum()\n",
    "    \n",
    "    propF = vacunadosFconCP / vacunadosFsinCP\n",
    "    #print(propF)\n",
    "    \n",
    "\n",
    "    dictt = {\"male\": propM, \"female\": propF}\n",
    "    return(dictt)\n",
    "    \n",
    "    raise NotImplementedError()"
   ]
  },
  {
   "cell_type": "code",
   "execution_count": 14,
   "metadata": {},
   "outputs": [
    {
     "data": {
      "text/plain": [
       "{'male': 0.009675583380762664, 'female': 0.0077918259335489565}"
      ]
     },
     "execution_count": 14,
     "metadata": {},
     "output_type": "execute_result"
    }
   ],
   "source": [
    "chickenpox_by_sex()"
   ]
  },
  {
   "cell_type": "markdown",
   "metadata": {},
   "source": [
    "## Question 4\n",
    "A correlation is a statistical relationship between two variables. If we wanted to know if vaccines work, we might look at the correlation between the use of the vaccine and whether it results in prevention of the infection or disease [1]. In this question, you are to see if there is a correlation between having had the chicken pox and the number of chickenpox vaccine doses given (varicella).\n",
    "\n",
    "Some notes on interpreting the answer. The `had_chickenpox_column` is either `1` (for yes) or `2` (for no), and the `num_chickenpox_vaccine_column` is the number of doses a child has been given of the varicella vaccine. A positive correlation (e.g., `corr > 0`) means that an increase in `had_chickenpox_column` (which means more no’s) would also increase the values of `num_chickenpox_vaccine_column` (which means more doses of vaccine). If there is a negative correlation (e.g., `corr < 0`), it indicates that having had chickenpox is related to an increase in the number of vaccine doses.\n",
    "\n",
    "Also, `pval` is the probability that we observe a correlation between `had_chickenpox_column` and `num_chickenpox_vaccine_column` which is greater than or equal to a particular value occurred by chance. A small `pval` means that the observed correlation is highly unlikely to occur by chance. In this case, `pval` should be very small (will end in `e-18` indicating a very small number).\n",
    "\n",
    "[1] This isn’t really the full picture, since we are not looking at when the dose was given. It’s possible that children had chickenpox and then their parents went to get them the vaccine. Does this dataset have the data we would need to investigate the timing of the dose?"
   ]
  },
  {
   "cell_type": "code",
   "execution_count": 15,
   "metadata": {},
   "outputs": [],
   "source": [
    "def corr_chickenpox():\n",
    "    import scipy.stats as stats\n",
    "    import numpy as np\n",
    "    import pandas as pd\n",
    "    \n",
    "    # this is just an example dataframe\n",
    "    df=pd.DataFrame({\"had_chickenpox_column\":np.random.randint(1,3,size=(100)),\n",
    "                   \"num_chickenpox_vaccine_column\":np.random.randint(0,6,size=(100))})\n",
    "\n",
    "    # here is some stub code to actually run the correlation\n",
    "    corr, pval=stats.pearsonr(df[\"had_chickenpox_column\"],df[\"num_chickenpox_vaccine_column\"])\n",
    "    \n",
    "    # just return the correlation\n",
    "    #return corr\n",
    "\n",
    "    \n",
    "    \n",
    "    df = pd.read_csv(\"assets/NISPUF17.csv\", index_col = 0)\n",
    "    \n",
    "    #agarramos s'olo las columnas que nos interesan\n",
    "    df = df[['P_NUMVRC','HAD_CPOX' ]]\n",
    "    #sacamos los renglones que tengan algun NA\n",
    "    df = df.dropna()\n",
    "    \n",
    "    #dejamos solo los resultados que seguro tuvieron o no CPox\n",
    "    # y sacamos los que no est'an seguros y as'i.\n",
    "    maskbuenos = df[\"HAD_CPOX\"] <=2\n",
    "    dfbuenos = df[maskbuenos]\n",
    "    \n",
    "    #calculamos la corr y el pval\n",
    "    corr , pval = stats.pearsonr(dfbuenos[\"HAD_CPOX\"], dfbuenos[\"P_NUMVRC\"])\n",
    "    #print(corr)\n",
    "    #print(pval)\n",
    "    \n",
    "    return corr\n",
    "    \n",
    "    # YOUR CODE HERE\n",
    "    raise NotImplementedError()"
   ]
  },
  {
   "cell_type": "code",
   "execution_count": 16,
   "metadata": {},
   "outputs": [
    {
     "data": {
      "text/plain": [
       "0.07044873460147985"
      ]
     },
     "execution_count": 16,
     "metadata": {},
     "output_type": "execute_result"
    }
   ],
   "source": [
    "corr_chickenpox()"
   ]
  },
  {
   "cell_type": "code",
   "execution_count": 17,
   "metadata": {},
   "outputs": [
    {
     "name": "stdout",
     "output_type": "stream",
     "text": [
      "       P_NUMVRC  HAD_CPOX\n",
      "4           1.0         2\n",
      "5           0.0         2\n",
      "7           1.0         2\n",
      "8           0.0         2\n",
      "9           0.0         1\n",
      "...         ...       ...\n",
      "28447       1.0         2\n",
      "28448       1.0         2\n",
      "28450       1.0         2\n",
      "28453       1.0         2\n",
      "28455       1.0         2\n",
      "\n",
      "[15333 rows x 2 columns]\n",
      "       P_NUMVRC  HAD_CPOX\n",
      "4           1.0         2\n",
      "5           0.0         2\n",
      "7           1.0         2\n",
      "8           0.0         2\n",
      "9           0.0         1\n",
      "...         ...       ...\n",
      "28447       1.0         2\n",
      "28448       1.0         2\n",
      "28450       1.0         2\n",
      "28453       1.0         2\n",
      "28455       1.0         2\n",
      "\n",
      "[15286 rows x 2 columns]\n"
     ]
    }
   ],
   "source": [
    "# pruebas\n",
    "\n",
    "df = pd.read_csv(\"assets/NISPUF17.csv\", index_col = 0)\n",
    "df = df[['P_NUMVRC','HAD_CPOX' ]]\n",
    "df = df.dropna()\n",
    "print(df)\n",
    "\n",
    "maskbuenos = df[\"HAD_CPOX\"]<=2\n",
    "dfbuenos = df[maskbuenos]\n",
    "print(dfbuenos)"
   ]
  },
  {
   "cell_type": "code",
   "execution_count": null,
   "metadata": {},
   "outputs": [],
   "source": []
  }
 ],
 "metadata": {
  "kernelspec": {
   "display_name": "Python 3",
   "language": "python",
   "name": "python3"
  },
  "language_info": {
   "codemirror_mode": {
    "name": "ipython",
    "version": 3
   },
   "file_extension": ".py",
   "mimetype": "text/x-python",
   "name": "python",
   "nbconvert_exporter": "python",
   "pygments_lexer": "ipython3",
   "version": "3.7.7rc1"
  }
 },
 "nbformat": 4,
 "nbformat_minor": 2
}
